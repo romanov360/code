{
 "cells": [
  {
   "cell_type": "code",
   "execution_count": 1,
   "id": "90404977-a1c4-4334-8e4a-d466a0d456c0",
   "metadata": {},
   "outputs": [],
   "source": [
    "import numpy as np"
   ]
  },
  {
   "cell_type": "code",
   "execution_count": 70,
   "id": "89952125-832b-4cb7-825c-6bbbddcd2d44",
   "metadata": {},
   "outputs": [],
   "source": [
    "from typing import List,Tuple"
   ]
  },
  {
   "cell_type": "code",
   "execution_count": 151,
   "id": "be413d18-a00d-42fd-a2d3-fd43c15019c3",
   "metadata": {},
   "outputs": [],
   "source": [
    "def one_indexed_vertices_to_zero_indexed(\n",
    "    edges:List[Tuple[int,int]]\n",
    ")->List[Tuple[int,int]]:\n",
    "    return [(v1-1,v2-1) for (v1,v2) in edges]\n",
    "def make_pr_matrix(\n",
    "    edges:List[Tuple[int,int]],n_vertices:int\n",
    ")->List[List[int]]:\n",
    "    part1=np.array(\n",
    "        [[1 for _ in range(n_vertices)] for _ in range(n_vertices)]\n",
    "        ,dtype=float\n",
    "    )\n",
    "    part2=np.array(\n",
    "        [[0 for _ in range(n_vertices)] for _ in range(n_vertices)]\n",
    "        ,dtype=float\n",
    "    )\n",
    "    out_degrees={v:0 for v in range(n_vertices)}\n",
    "    for (v1,_) in edges:\n",
    "        out_degrees[v1]+=1\n",
    "    for (v1,v2) in edges:\n",
    "        part2[v2,v1]=1/out_degrees[v1]\n",
    "    for v,out_degree in out_degrees.items():\n",
    "        if out_degree==0:\n",
    "            part2[:,v]=1/n_vertices\n",
    "    return .15/n_vertices*part1+.85*part2"
   ]
  },
  {
   "cell_type": "code",
   "execution_count": 74,
   "id": "28634f80-14af-45f2-b2e2-34309a4e7828",
   "metadata": {},
   "outputs": [
    {
     "data": {
      "text/plain": [
       "array([[0.2  , 0.03 , 0.03 , 0.2  , 0.2  ],\n",
       "       [0.2  , 0.03 , 0.03 , 0.2  , 0.2  ],\n",
       "       [0.2  , 0.455, 0.03 , 0.2  , 0.2  ],\n",
       "       [0.2  , 0.455, 0.88 , 0.2  , 0.2  ],\n",
       "       [0.2  , 0.03 , 0.03 , 0.2  , 0.2  ]])"
      ]
     },
     "execution_count": 74,
     "metadata": {},
     "output_type": "execute_result"
    }
   ],
   "source": [
    "make_pr_matrix([(1,2),(2,3),(1,3)],5)"
   ]
  },
  {
   "cell_type": "markdown",
   "id": "4cef6033-810f-4a5b-bbd2-51eeb6d596e7",
   "metadata": {},
   "source": [
    "First internet in notes."
   ]
  },
  {
   "cell_type": "code",
   "execution_count": 78,
   "id": "d782b1a1-7b44-44f0-b625-58c848c98e6e",
   "metadata": {},
   "outputs": [],
   "source": [
    "internet1_pr_matrix=make_pr_matrix(\n",
    "    one_indexed_vertices_to_zero_indexed([\n",
    "        (1,2),\n",
    "        (1,3),\n",
    "        (2,3),\n",
    "        (3,4),\n",
    "        (4,3)\n",
    "    ])\n",
    "    ,4\n",
    ")"
   ]
  },
  {
   "cell_type": "markdown",
   "id": "5d9e6649-b346-4891-a255-50b680b3cd1c",
   "metadata": {},
   "source": [
    "Second internet in notes."
   ]
  },
  {
   "cell_type": "code",
   "execution_count": 79,
   "id": "2c4502b3-3e2f-4598-9fa5-39caf5852334",
   "metadata": {},
   "outputs": [],
   "source": [
    "internet2_pr_matrix=make_pr_matrix(\n",
    "    one_indexed_vertices_to_zero_indexed([\n",
    "        (1,2),\n",
    "        (1,3),\n",
    "        (2,3),\n",
    "        (2,4),\n",
    "        (4,2)\n",
    "    ])\n",
    "    ,4\n",
    ")"
   ]
  },
  {
   "cell_type": "code",
   "execution_count": 81,
   "id": "6e71c37e-45da-4d8c-af7e-988c3a39e6ac",
   "metadata": {},
   "outputs": [
    {
     "data": {
      "text/plain": [
       "array([[0.0375, 0.0375, 0.0375, 0.0375],\n",
       "       [0.4625, 0.0375, 0.0375, 0.0375],\n",
       "       [0.4625, 0.8875, 0.0375, 0.8875],\n",
       "       [0.0375, 0.0375, 0.8875, 0.0375]])"
      ]
     },
     "execution_count": 81,
     "metadata": {},
     "output_type": "execute_result"
    }
   ],
   "source": [
    "internet1_pr_matrix"
   ]
  },
  {
   "cell_type": "code",
   "execution_count": 152,
   "id": "ec8a11c5-88b6-4038-bdd9-9d3a98607152",
   "metadata": {},
   "outputs": [],
   "source": [
    "def get_probability_eigenvector(pr_matrix):\n",
    "    eigenpairs=np.linalg.eig(pr_matrix)\n",
    "    ix=[\n",
    "        i for i in range(len(eigenpairs.eigenvalues)) \n",
    "        if np.isclose(eigenpairs.eigenvalues.tolist()[i],1)\n",
    "    ][0]\n",
    "    return eigenpairs.eigenvectors[ix]/sum(eigenpairs.eigenvectors[ix])"
   ]
  },
  {
   "cell_type": "code",
   "execution_count": 119,
   "id": "907fda5d-7c39-481f-a577-31de675401c5",
   "metadata": {},
   "outputs": [
    {
     "data": {
      "text/plain": [
       "array([ 5.80013853e-02+0.00000000e+00j, -7.87146130e-17+4.09712372e-09j,\n",
       "       -7.87146130e-17-4.09712372e-09j, -3.93326756e-17+0.00000000e+00j])"
      ]
     },
     "execution_count": 119,
     "metadata": {},
     "output_type": "execute_result"
    }
   ],
   "source": [
    "np.linalg.eig(internet1_pr_matrix).eigenvectors[0]"
   ]
  },
  {
   "cell_type": "code",
   "execution_count": 118,
   "id": "72069d06-aba8-4d6d-a4a4-ff72b6ef5d1e",
   "metadata": {},
   "outputs": [
    {
     "data": {
      "text/plain": [
       "array([ 1.00000000e+00+0.00000000e+00j, -1.35711609e-15+7.06383769e-08j,\n",
       "       -1.35711609e-15-7.06383769e-08j, -6.78133383e-16+0.00000000e+00j])"
      ]
     },
     "execution_count": 118,
     "metadata": {},
     "output_type": "execute_result"
    }
   ],
   "source": [
    "get_probability_eigenvector(internet1_pr_matrix)"
   ]
  },
  {
   "cell_type": "code",
   "execution_count": 97,
   "id": "55405764-10bc-4d09-aef2-4f2c16612505",
   "metadata": {},
   "outputs": [
    {
     "data": {
      "text/plain": [
       "np.True_"
      ]
     },
     "execution_count": 97,
     "metadata": {},
     "output_type": "execute_result"
    }
   ],
   "source": [
    "np.isclose(np.linalg.eig(internet1_pr_matrix).eigenvalues.tolist()[0],1)"
   ]
  },
  {
   "cell_type": "code",
   "execution_count": 121,
   "id": "e18ea89b-51f5-473f-9de9-4438e8f88784",
   "metadata": {},
   "outputs": [],
   "source": [
    "online_solution=[4440/51853,6327/51853,55780/51853,1]"
   ]
  },
  {
   "cell_type": "code",
   "execution_count": 123,
   "id": "8146c32f-5ae8-45f0-b8f2-08593fbefee1",
   "metadata": {},
   "outputs": [
    {
     "data": {
      "text/plain": [
       "array([0.0375    , 0.0534375 , 0.47111486, 0.43794764])"
      ]
     },
     "execution_count": 123,
     "metadata": {},
     "output_type": "execute_result"
    }
   ],
   "source": [
    "np.array(online_solution)/sum(online_solution)"
   ]
  },
  {
   "cell_type": "markdown",
   "id": "cc041a96-0df2-4157-881b-afa43f21d921",
   "metadata": {},
   "source": [
    "https://www.emathhelp.net/calculators/linear-algebra/eigenvalue-and-eigenvector-calculator/?i=%5B%5B0.0375%2C0.0375%2C0.0375%2C0.0375%5D%2C%5B0.4625%2C0.0375%2C0.0375%2C0.0375%5D%2C%5B0.4625%2C0.8875%2C0.0375%2C0.8875%5D%2C%5B0.0375%2C0.0375%2C0.8875%2C0.0375%5D%5D"
   ]
  },
  {
   "cell_type": "markdown",
   "id": "a91dcdd8-3b7f-4a41-b589-ff1bce14a665",
   "metadata": {},
   "source": [
    "This is right, then why did numpy give the wrong answer?"
   ]
  },
  {
   "cell_type": "code",
   "execution_count": 155,
   "id": "3c869f7d-001b-42b2-b70d-7683c86fb1e2",
   "metadata": {},
   "outputs": [],
   "source": [
    "get_eigvec=lambda i:[\n",
    "    round(float(z.real),3) \n",
    "    for z in \n",
    "    np.linalg.eig(internet1_pr_matrix).eigenvectors[0]\n",
    "    /sum(np.linalg.eig(internet1_pr_matrix).eigenvectors[i])\n",
    "]"
   ]
  },
  {
   "cell_type": "code",
   "execution_count": 156,
   "id": "6d3e9434-0ccf-4477-a0b7-de76e1c1b387",
   "metadata": {},
   "outputs": [
    {
     "data": {
      "text/plain": [
       "[1.0, -0.0, -0.0, -0.0]"
      ]
     },
     "execution_count": 156,
     "metadata": {},
     "output_type": "execute_result"
    }
   ],
   "source": [
    "get_eigvec(0)"
   ]
  },
  {
   "cell_type": "code",
   "execution_count": 157,
   "id": "e9bb0933-faa7-476b-82d3-f0b3fbb091f0",
   "metadata": {},
   "outputs": [
    {
     "data": {
      "text/plain": [
       "[0.039, -0.0, -0.0, -0.0]"
      ]
     },
     "execution_count": 157,
     "metadata": {},
     "output_type": "execute_result"
    }
   ],
   "source": [
    "get_eigvec(1)"
   ]
  },
  {
   "cell_type": "code",
   "execution_count": 158,
   "id": "d20536ea-7587-41dd-9fcd-c28f51bd27d4",
   "metadata": {},
   "outputs": [
    {
     "data": {
      "text/plain": [
       "[2.689, -0.0, -0.0, -0.0]"
      ]
     },
     "execution_count": 158,
     "metadata": {},
     "output_type": "execute_result"
    }
   ],
   "source": [
    "get_eigvec(2)"
   ]
  },
  {
   "cell_type": "code",
   "execution_count": 159,
   "id": "e1b550a9-9c50-4f06-944b-0a1d66c8097c",
   "metadata": {},
   "outputs": [
    {
     "data": {
      "text/plain": [
       "[-1.951, 0.0, 0.0, 0.0]"
      ]
     },
     "execution_count": 159,
     "metadata": {},
     "output_type": "execute_result"
    }
   ],
   "source": [
    "get_eigvec(3)"
   ]
  },
  {
   "cell_type": "markdown",
   "id": "f964e3e5-0f65-4d99-bad6-1b28e7bb234c",
   "metadata": {},
   "source": [
    "None of these are it."
   ]
  },
  {
   "cell_type": "code",
   "execution_count": 160,
   "id": "cea2e962-a7fa-47ec-9283-831546fb36b2",
   "metadata": {},
   "outputs": [
    {
     "data": {
      "text/plain": [
       "[0.0375, 0.0534, 0.4711, 0.4379]"
      ]
     },
     "execution_count": 160,
     "metadata": {},
     "output_type": "execute_result"
    }
   ],
   "source": [
    "[\n",
    "    round(float(z.real),4) \n",
    "    for z in \n",
    "    np.linalg.eig(internet1_pr_matrix).eigenvectors.T[0]\n",
    "    /sum(np.linalg.eig(internet1_pr_matrix).eigenvectors.T[0])\n",
    "]"
   ]
  },
  {
   "cell_type": "markdown",
   "id": "bb7c1380-56cd-40a4-b2c8-9221d99a580e",
   "metadata": {},
   "source": [
    "Got it.\n",
    "\n",
    "Ok so numpy's eigenvector collection is transposed also."
   ]
  },
  {
   "cell_type": "code",
   "execution_count": 180,
   "id": "4387e475-63e6-45af-850a-197c0a85c710",
   "metadata": {},
   "outputs": [],
   "source": [
    "def get_probability_eigenvector(pr_matrix:List[List[float]]):\n",
    "    eigenpairs=np.linalg.eig(pr_matrix)\n",
    "    ix=[\n",
    "        i for i in range(len(eigenpairs.eigenvalues)) \n",
    "        if np.isclose(eigenpairs.eigenvalues.tolist()[i],1)\n",
    "    ][0]\n",
    "    return [round(float(x.real),4) for x in eigenpairs.eigenvectors[:,ix]/sum(eigenpairs.eigenvectors[:,ix])]"
   ]
  },
  {
   "cell_type": "code",
   "execution_count": 170,
   "id": "f7f9061b-d34e-4379-bae5-0891692ebb20",
   "metadata": {},
   "outputs": [
    {
     "data": {
      "text/plain": [
       "[0.03749999999999999,\n",
       " 0.05343749999999988,\n",
       " 0.47111486486486487,\n",
       " 0.4379476351351353]"
      ]
     },
     "execution_count": 170,
     "metadata": {},
     "output_type": "execute_result"
    }
   ],
   "source": [
    "get_probability_eigenvector(internet1_pr_matrix)"
   ]
  },
  {
   "cell_type": "markdown",
   "id": "d15cabc9-e17e-4a03-9a17-a9784c88ac5c",
   "metadata": {},
   "source": [
    "Exercise 7.1."
   ]
  },
  {
   "cell_type": "code",
   "execution_count": 171,
   "id": "28283fba-7b8a-4adf-82cb-fc60437ab038",
   "metadata": {},
   "outputs": [
    {
     "data": {
      "text/plain": [
       "[0.3508771929824561, 0.6491228070175439]"
      ]
     },
     "execution_count": 171,
     "metadata": {},
     "output_type": "execute_result"
    }
   ],
   "source": [
    "get_probability_eigenvector(\n",
    "    make_pr_matrix(\n",
    "        one_indexed_vertices_to_zero_indexed([\n",
    "            (1,2)\n",
    "        ])\n",
    "        ,2\n",
    "    )\n",
    ")"
   ]
  },
  {
   "cell_type": "code",
   "execution_count": 175,
   "id": "b82d26dc-1a95-4e99-986a-2187c357ab30",
   "metadata": {},
   "outputs": [
    {
     "data": {
      "text/plain": [
       "array([[0.075, 0.5  ],\n",
       "       [0.925, 0.5  ]])"
      ]
     },
     "execution_count": 175,
     "metadata": {},
     "output_type": "execute_result"
    }
   ],
   "source": [
    "make_pr_matrix(\n",
    "    one_indexed_vertices_to_zero_indexed([\n",
    "        (1,2)\n",
    "    ])\n",
    "    ,2\n",
    ")"
   ]
  },
  {
   "cell_type": "markdown",
   "id": "46a4f560-45a0-44be-877d-5f08fc8c0533",
   "metadata": {},
   "source": [
    "Exercise 7.2."
   ]
  },
  {
   "cell_type": "code",
   "execution_count": 178,
   "id": "52d3b188-dbbd-416f-9ef6-e1c4393cd91f",
   "metadata": {},
   "outputs": [
    {
     "data": {
      "text/plain": [
       "[0.1114, 0.1352, 0.0731, 0.3393, 0.0731, 0.2681]"
      ]
     },
     "execution_count": 178,
     "metadata": {},
     "output_type": "execute_result"
    }
   ],
   "source": [
    "get_probability_eigenvector(\n",
    "    make_pr_matrix(\n",
    "        one_indexed_vertices_to_zero_indexed([\n",
    "            (1,6),\n",
    "            (2,1),\n",
    "            (2,4),\n",
    "            (2,6),\n",
    "            (3,2),\n",
    "            (5,6),\n",
    "            (6,4)\n",
    "        ])\n",
    "        ,6\n",
    "    )\n",
    ")"
   ]
  },
  {
   "cell_type": "markdown",
   "id": "91c6d12a-a19c-42db-b93e-e4f49f6b7e2c",
   "metadata": {},
   "source": [
    "Exercise 7.4."
   ]
  },
  {
   "cell_type": "code",
   "execution_count": 179,
   "id": "52b9374a-8dc4-4c6b-b2e2-8bcbd228799a",
   "metadata": {},
   "outputs": [
    {
     "data": {
      "text/plain": [
       "[0.2454, 0.1765, 0.0954, 0.0954, 0.1359, 0.2515]"
      ]
     },
     "execution_count": 179,
     "metadata": {},
     "output_type": "execute_result"
    }
   ],
   "source": [
    "get_probability_eigenvector(\n",
    "    make_pr_matrix(\n",
    "        one_indexed_vertices_to_zero_indexed([\n",
    "            (2,1),\n",
    "            (3,2),\n",
    "            (4,5),\n",
    "            (4,6),\n",
    "            (5,6)\n",
    "        ])\n",
    "        ,6\n",
    "    )\n",
    ")"
   ]
  },
  {
   "cell_type": "markdown",
   "id": "f8a07aff-d883-4f82-b4ff-58497d4160c9",
   "metadata": {},
   "source": [
    "Exercise 7.5."
   ]
  },
  {
   "cell_type": "code",
   "execution_count": 182,
   "id": "628cbe38-d49d-44ea-9bb1-eab3e7c00ae7",
   "metadata": {},
   "outputs": [],
   "source": [
    "e7_5_matrix=make_pr_matrix(\n",
    "    one_indexed_vertices_to_zero_indexed([\n",
    "        (2,1),\n",
    "        (3,2),\n",
    "        (4,5),\n",
    "        (4,6),\n",
    "        (5,6)\n",
    "    ])\n",
    "    ,6\n",
    ")"
   ]
  },
  {
   "cell_type": "code",
   "execution_count": 205,
   "id": "2a2e9f4a-8209-430f-9d98-75bf19bbe299",
   "metadata": {},
   "outputs": [],
   "source": [
    "def get_decimal_places_equal(f1:float,f2:float)->int:\n",
    "    s1,s2=str(f1),str(f2)\n",
    "    if s1[:s1.index('.')]!=s2[:s2.index('.')]:\n",
    "        return 0\n",
    "    s1chop=s1[s1.index('.')+1:]\n",
    "    s2chop=s2[s2.index('.')+1:]\n",
    "    i=0\n",
    "    while i<min(len(s1chop),len(s2chop)) and s1chop[i]==s2chop[i]:\n",
    "        i+=1\n",
    "    return i"
   ]
  },
  {
   "cell_type": "code",
   "execution_count": 229,
   "id": "7e785f70-099e-48b2-a7ab-18c89e9eae30",
   "metadata": {},
   "outputs": [],
   "source": [
    "def iterations_until_numerical_convergence(\n",
    "    pr_matrix:np.array,vector:np.array\n",
    ")->int:\n",
    "    n=len(vector)\n",
    "    steps=0\n",
    "    prev=vector\n",
    "    vector=pr_matrix@vector\n",
    "    decimals_equal=min([\n",
    "        get_decimal_places_equal(prev,vector) \n",
    "        for i in range(n)\n",
    "    ])\n",
    "    while decimals_equal<4:\n",
    "        prev=vector\n",
    "        vector=pr_matrix@vector\n",
    "        decimals_equal=min([\n",
    "            get_decimal_places_equal(prev[i],vector[i]) \n",
    "            for i in range(n)\n",
    "        ])\n",
    "        steps+=1\n",
    "        print(f'{steps=}\\n{prev=}, \\n{vector=},')\n",
    "        print(f'{get_decimal_places_equal(prev,vector)=}\\n')\n",
    "    return steps"
   ]
  },
  {
   "cell_type": "code",
   "execution_count": 230,
   "id": "44e5043e-03f5-4c96-b377-d2f77be002b2",
   "metadata": {
    "scrolled": true
   },
   "outputs": [
    {
     "name": "stdout",
     "output_type": "stream",
     "text": [
      "steps=1\n",
      "prev=array([0.16666667, 0.16666667, 0.16666667, 0.16666667, 0.16666667,\n",
      "       0.16666667]), \n",
      "vector=array([0.21388889, 0.21388889, 0.07222222, 0.07222222, 0.14305556,\n",
      "       0.28472222]),\n",
      "get_decimal_places_equal(prev,vector)=0\n",
      "\n",
      "steps=2\n",
      "prev=array([0.21388889, 0.21388889, 0.07222222, 0.07222222, 0.14305556,\n",
      "       0.28472222]), \n",
      "vector=array([0.27744213, 0.15702546, 0.09563657, 0.09563657, 0.12633102,\n",
      "       0.24792824]),\n",
      "get_decimal_places_equal(prev,vector)=1\n",
      "\n",
      "steps=3\n",
      "prev=array([0.27744213, 0.15702546, 0.09563657, 0.09563657, 0.12633102,\n",
      "       0.24792824]), \n",
      "vector=array([0.23289911, 0.18071856, 0.09942747, 0.09942747, 0.14007301,\n",
      "       0.24745438]),\n",
      "get_decimal_places_equal(prev,vector)=1\n",
      "\n",
      "steps=4\n",
      "prev=array([0.23289911, 0.18071856, 0.09942747, 0.09942747, 0.14007301,\n",
      "       0.24745438]), \n",
      "vector=array([0.24666085, 0.17756343, 0.09305008, 0.09305008, 0.13530675,\n",
      "       0.25436881]),\n",
      "get_decimal_places_equal(prev,vector)=1\n",
      "\n",
      "steps=5\n",
      "prev=array([0.24666085, 0.17756343, 0.09305008, 0.09305008, 0.13530675,\n",
      "       0.25436881]), \n",
      "vector=array([0.24690812, 0.17507177, 0.0959792 , 0.0959792 , 0.13552549,\n",
      "       0.25053623]),\n",
      "get_decimal_places_equal(prev,vector)=3\n",
      "\n",
      "steps=6\n",
      "prev=array([0.24690812, 0.17507177, 0.0959792 , 0.0959792 , 0.13552549,\n",
      "       0.25053623]), \n",
      "vector=array([0.24428229, 0.1770536 , 0.09547128, 0.09547128, 0.13626244,\n",
      "       0.25145911]),\n",
      "get_decimal_places_equal(prev,vector)=2\n",
      "\n",
      "steps=7\n",
      "prev=array([0.24428229, 0.1770536 , 0.09547128, 0.09547128, 0.13626244,\n",
      "       0.25145911]), \n",
      "vector=array([0.24572559, 0.17638062, 0.09523003, 0.09523003, 0.13580532,\n",
      "       0.2516284 ]),\n",
      "get_decimal_places_equal(prev,vector)=2\n",
      "\n",
      "steps=8\n",
      "prev=array([0.24572559, 0.17638062, 0.09523003, 0.09523003, 0.13580532,\n",
      "       0.2516284 ]), \n",
      "vector=array([0.24538201, 0.17640401, 0.09545848, 0.09545848, 0.13593125,\n",
      "       0.25136577]),\n",
      "get_decimal_places_equal(prev,vector)=3\n",
      "\n",
      "steps=9\n",
      "prev=array([0.24538201, 0.17640401, 0.09545848, 0.09545848, 0.13593125,\n",
      "       0.25136577]), \n",
      "vector=array([0.24531601, 0.17651231, 0.0953726 , 0.0953726 , 0.13594246,\n",
      "       0.25148402]),\n",
      "get_decimal_places_equal(prev,vector)=4\n",
      "\n",
      "steps=10\n",
      "prev=array([0.24531601, 0.17651231, 0.0953726 , 0.0953726 , 0.13594246,\n",
      "       0.25148402]), \n",
      "vector=array([0.24541547, 0.17644672, 0.09538   , 0.09538   , 0.13591336,\n",
      "       0.25146445]),\n",
      "get_decimal_places_equal(prev,vector)=3\n",
      "\n",
      "steps=11\n",
      "prev=array([0.24541547, 0.17644672, 0.09538   , 0.09538   , 0.13591336,\n",
      "       0.25146445]), \n",
      "vector=array([0.24537103, 0.17646432, 0.09539132, 0.09539132, 0.13592782,\n",
      "       0.25145418]),\n",
      "get_decimal_places_equal(prev,vector)=3\n",
      "\n",
      "steps=12\n",
      "prev=array([0.24537103, 0.17646432, 0.09539132, 0.09539132, 0.13592782,\n",
      "       0.25145418]), \n",
      "vector=array([0.24537825, 0.17646619, 0.09538357, 0.09538357, 0.13592488,\n",
      "       0.25146353]),\n",
      "get_decimal_places_equal(prev,vector)=5\n",
      "\n"
     ]
    },
    {
     "data": {
      "text/plain": [
       "12"
      ]
     },
     "execution_count": 230,
     "metadata": {},
     "output_type": "execute_result"
    }
   ],
   "source": [
    "iterations_until_numerical_convergence(\n",
    "    e7_5_matrix,\n",
    "    np.array([1,0,0,0,0,0],dtype=float).T\n",
    ")"
   ]
  },
  {
   "cell_type": "code",
   "execution_count": 186,
   "id": "30a82744-7add-43cb-a3bf-c9041afda2d7",
   "metadata": {},
   "outputs": [
    {
     "data": {
      "text/plain": [
       "array([[0.167, 0.875, 0.025, 0.025, 0.025, 0.167],\n",
       "       [0.167, 0.025, 0.875, 0.025, 0.025, 0.167],\n",
       "       [0.167, 0.025, 0.025, 0.025, 0.025, 0.167],\n",
       "       [0.167, 0.025, 0.025, 0.025, 0.025, 0.167],\n",
       "       [0.167, 0.025, 0.025, 0.45 , 0.025, 0.167],\n",
       "       [0.167, 0.025, 0.025, 0.45 , 0.875, 0.167]])"
      ]
     },
     "execution_count": 186,
     "metadata": {},
     "output_type": "execute_result"
    }
   ],
   "source": [
    "e7_5_matrix.round(3)"
   ]
  },
  {
   "cell_type": "markdown",
   "id": "0a1cbafc-fbe4-4fb6-b80a-bb4738196ba0",
   "metadata": {},
   "source": [
    "Exercise 7.7."
   ]
  },
  {
   "cell_type": "code",
   "execution_count": 231,
   "id": "72003676-2a12-4bb3-a191-8362dfba0081",
   "metadata": {},
   "outputs": [],
   "source": [
    "def make_pr_matrix_exercise_7_7(\n",
    "    edges:List[Tuple[int,int]],\n",
    "    n_vertices:int,\n",
    "    p:float#Fraction of weight to put on the constant matrix term.\n",
    ")->List[List[int]]:\n",
    "    part1=np.array(\n",
    "        [[1 for _ in range(n_vertices)] for _ in range(n_vertices)]\n",
    "        ,dtype=float\n",
    "    )\n",
    "    part2=np.array(\n",
    "        [[0 for _ in range(n_vertices)] for _ in range(n_vertices)]\n",
    "        ,dtype=float\n",
    "    )\n",
    "    out_degrees={v:0 for v in range(n_vertices)}\n",
    "    for (v1,_) in edges:\n",
    "        out_degrees[v1]+=1\n",
    "    for (v1,v2) in edges:\n",
    "        part2[v2,v1]=1/out_degrees[v1]\n",
    "    for v,out_degree in out_degrees.items():\n",
    "        if out_degree==0:\n",
    "            part2[:,v]=1/n_vertices\n",
    "    return p/n_vertices*part1+(1-p)*part2"
   ]
  },
  {
   "cell_type": "code",
   "execution_count": 236,
   "id": "f211682e-6b4c-488f-a731-67a2df9832a8",
   "metadata": {},
   "outputs": [],
   "source": [
    "e7_7_eigvecs=[get_probability_eigenvector(make_pr_matrix_exercise_7_7(\n",
    "    one_indexed_vertices_to_zero_indexed([\n",
    "        (1,2),\n",
    "        (1,3),\n",
    "        (2,3),\n",
    "        (3,1)\n",
    "    ])\n",
    "    ,3\n",
    "    ,p\n",
    ")) for p in [.85,.15,.6,.4]]"
   ]
  },
  {
   "cell_type": "code",
   "execution_count": 237,
   "id": "ea3fb815-0ceb-4944-8a07-244de2180e34",
   "metadata": {},
   "outputs": [
    {
     "data": {
      "text/plain": [
       "[[0.3366, 0.3086, 0.3549],\n",
       " [0.3878, 0.2148, 0.3974],\n",
       " [0.3514, 0.2703, 0.3784],\n",
       " [0.367, 0.2434, 0.3895]]"
      ]
     },
     "execution_count": 237,
     "metadata": {},
     "output_type": "execute_result"
    }
   ],
   "source": [
    "e7_7_eigvecs"
   ]
  },
  {
   "cell_type": "code",
   "execution_count": 244,
   "id": "cad219b7-c315-40a9-a0dc-dab598948fca",
   "metadata": {},
   "outputs": [],
   "source": [
    "def order(li:List[float])->List[int]:\n",
    "    li_sorted=sorted(li)\n",
    "    return [li_sorted.index(li[ix]) for ix in range(len(li))]"
   ]
  },
  {
   "cell_type": "code",
   "execution_count": 246,
   "id": "f5ad3766-12b0-4307-97c7-010d6896efed",
   "metadata": {},
   "outputs": [
    {
     "data": {
      "text/plain": [
       "[[1, 0, 2], [1, 0, 2], [1, 0, 2], [1, 0, 2]]"
      ]
     },
     "execution_count": 246,
     "metadata": {},
     "output_type": "execute_result"
    }
   ],
   "source": [
    "[order(li) for li in e7_7_eigvecs]"
   ]
  },
  {
   "cell_type": "code",
   "execution_count": 251,
   "id": "668698c5-e41f-4274-9e19-9e03f4cc164e",
   "metadata": {},
   "outputs": [
    {
     "data": {
      "text/plain": [
       "[0.3333, 0.3333, 0.3333]"
      ]
     },
     "execution_count": 251,
     "metadata": {},
     "output_type": "execute_result"
    }
   ],
   "source": [
    "get_probability_eigenvector(make_pr_matrix_exercise_7_7(\n",
    "    one_indexed_vertices_to_zero_indexed([\n",
    "        (1,2),\n",
    "        (1,3),\n",
    "        (2,3),\n",
    "        (3,1)\n",
    "    ])\n",
    "    ,3\n",
    "    ,1\n",
    "))"
   ]
  },
  {
   "cell_type": "markdown",
   "id": "3e361b8c-61cc-4ec5-8c4f-e90dfe75d4dd",
   "metadata": {},
   "source": [
    "Exercise 7.8."
   ]
  },
  {
   "cell_type": "code",
   "execution_count": 253,
   "id": "6914b07e-0cf6-4e69-a3fb-685dd4c3043d",
   "metadata": {},
   "outputs": [
    {
     "data": {
      "text/plain": [
       "[0.1042,\n",
       " 0.0584,\n",
       " 0.1408,\n",
       " 0.0954,\n",
       " 0.1891,\n",
       " 0.0327,\n",
       " 0.1536,\n",
       " 0.0327,\n",
       " 0.0833,\n",
       " 0.1098]"
      ]
     },
     "execution_count": 253,
     "metadata": {},
     "output_type": "execute_result"
    }
   ],
   "source": [
    "get_probability_eigenvector(make_pr_matrix(\n",
    "    one_indexed_vertices_to_zero_indexed([\n",
    "        (1,2),\n",
    "        (1,5),\n",
    "        (1,10),\n",
    "        (2,5),\n",
    "        (2,1),\n",
    "        (3,5),\n",
    "        (4,7),\n",
    "        (4,9),\n",
    "        (5,4),\n",
    "        (5,7),\n",
    "        (6,9),\n",
    "        (7,3),\n",
    "        (7,10),\n",
    "        (8,2),\n",
    "        (8,3),\n",
    "        (9,1),\n",
    "        (9,6),\n",
    "        (9,7),\n",
    "        (9,8),\n",
    "        (10,1),\n",
    "        (10,3)\n",
    "    ])\n",
    "    ,10\n",
    "))"
   ]
  },
  {
   "cell_type": "code",
   "execution_count": 254,
   "id": "35641943-bed7-4fa1-889a-8ede84431f15",
   "metadata": {},
   "outputs": [
    {
     "name": "stdout",
     "output_type": "stream",
     "text": [
      "[0.1042, 0.0584, 0.1408, 0.0954, 0.1891, 0.0327, 0.1536, 0.0327, 0.0833, 0.1098]\n"
     ]
    }
   ],
   "source": [
    "print([0.1042,\n",
    " 0.0584,\n",
    " 0.1408,\n",
    " 0.0954,\n",
    " 0.1891,\n",
    " 0.0327,\n",
    " 0.1536,\n",
    " 0.0327,\n",
    " 0.0833,\n",
    " 0.1098])"
   ]
  },
  {
   "cell_type": "code",
   "execution_count": 255,
   "id": "84d3d4bc-5b8f-4b1e-b54a-926006badb6c",
   "metadata": {},
   "outputs": [
    {
     "data": {
      "text/plain": [
       "[0.3333, 0.3333, 0.3333]"
      ]
     },
     "execution_count": 255,
     "metadata": {},
     "output_type": "execute_result"
    }
   ],
   "source": [
    "get_probability_eigenvector(make_pr_matrix(\n",
    "    one_indexed_vertices_to_zero_indexed([\n",
    "        (1,2),\n",
    "        (2,3),\n",
    "        (3,1)\n",
    "    ])\n",
    "    ,3\n",
    "))"
   ]
  },
  {
   "cell_type": "code",
   "execution_count": 256,
   "id": "e8e8ed82-9038-473e-89ed-7b36c9695431",
   "metadata": {},
   "outputs": [
    {
     "data": {
      "text/plain": [
       "[0.1844, 0.3412, 0.4744]"
      ]
     },
     "execution_count": 256,
     "metadata": {},
     "output_type": "execute_result"
    }
   ],
   "source": [
    "get_probability_eigenvector(make_pr_matrix(\n",
    "    one_indexed_vertices_to_zero_indexed([\n",
    "        (1,2),\n",
    "        (2,3)\n",
    "    ])\n",
    "    ,3\n",
    "))"
   ]
  },
  {
   "cell_type": "markdown",
   "id": "2d098dfe-8c51-444b-b657-86de88ec2776",
   "metadata": {},
   "source": [
    "Exercise 7.10."
   ]
  },
  {
   "cell_type": "code",
   "execution_count": 262,
   "id": "24361bea-4e51-424a-baf3-174106f18817",
   "metadata": {},
   "outputs": [],
   "source": [
    "def line(n):\n",
    "    return [(z,z+1)\n",
    "            for z in range(n)\n",
    "            if z!=(n-1)]"
   ]
  },
  {
   "cell_type": "code",
   "execution_count": 274,
   "id": "79af59f3-4f6d-475a-9caf-36ce75693748",
   "metadata": {},
   "outputs": [],
   "source": [
    "def line(n:int)->List[List[float]]:\n",
    "    return make_pr_matrix([\n",
    "            (z,z+1)\n",
    "            for z in range(n)\n",
    "            if z!=n-1\n",
    "        ]\n",
    "        ,n\n",
    "    )"
   ]
  },
  {
   "cell_type": "code",
   "execution_count": 275,
   "id": "2603ecd4-472e-4624-81bd-ee999f26b261",
   "metadata": {
    "scrolled": true
   },
   "outputs": [
    {
     "data": {
      "text/plain": [
       "array([[0.03, 0.03, 0.03, 0.03, 0.2 ],\n",
       "       [0.88, 0.03, 0.03, 0.03, 0.2 ],\n",
       "       [0.03, 0.88, 0.03, 0.03, 0.2 ],\n",
       "       [0.03, 0.03, 0.88, 0.03, 0.2 ],\n",
       "       [0.03, 0.03, 0.03, 0.88, 0.2 ]])"
      ]
     },
     "execution_count": 275,
     "metadata": {},
     "output_type": "execute_result"
    }
   ],
   "source": [
    "line(5)"
   ]
  }
 ],
 "metadata": {
  "kernelspec": {
   "display_name": "Python 3 (ipykernel)",
   "language": "python",
   "name": "python3"
  },
  "language_info": {
   "codemirror_mode": {
    "name": "ipython",
    "version": 3
   },
   "file_extension": ".py",
   "mimetype": "text/x-python",
   "name": "python",
   "nbconvert_exporter": "python",
   "pygments_lexer": "ipython3",
   "version": "3.13.3"
  }
 },
 "nbformat": 4,
 "nbformat_minor": 5
}
